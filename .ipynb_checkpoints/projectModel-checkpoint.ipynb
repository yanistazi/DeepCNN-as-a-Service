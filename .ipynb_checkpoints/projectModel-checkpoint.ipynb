{
 "cells": [
  {
   "cell_type": "code",
   "execution_count": 1,
   "metadata": {
    "colab": {
     "base_uri": "https://localhost:8080/"
    },
    "id": "4zUElGjesUKY",
    "outputId": "fbe1ace4-7d2a-4d2d-b9c8-11b2c970fa10"
   },
   "outputs": [
    {
     "name": "stdout",
     "output_type": "stream",
     "text": [
      "/Users/taziy/DeepCNN-as-a-Service\n"
     ]
    }
   ],
   "source": [
    "import os\n",
    "print(os.getcwd())"
   ]
  },
  {
   "cell_type": "markdown",
   "metadata": {
    "id": "1sdYPXkPFyvb"
   },
   "source": [
    "Import needed libraries and classes"
   ]
  },
  {
   "cell_type": "code",
   "execution_count": 2,
   "metadata": {
    "id": "LkC-_M2HsbpN"
   },
   "outputs": [],
   "source": [
    "import itertools\n",
    "import os\n",
    "import shutil\n",
    "import random\n",
    "import glob\n",
    "import matplotlib.pyplot as plt\n",
    "import warnings\n",
    "import re\n",
    "import numpy as np\n",
    "import tensorflow as tf\n",
    "from tensorflow import keras\n",
    "from tensorflow.keras.models import Sequential\n",
    "from tensorflow.keras.layers import Activation, Dense, Flatten, BatchNormalization, Conv2D, MaxPool2D\n",
    "from tensorflow.keras.optimizers import Adam\n",
    "from tensorflow.keras.metrics import categorical_crossentropy\n",
    "from tensorflow.keras.preprocessing.image import ImageDataGenerator\n",
    "from tensorflow.keras import Model\n",
    "from sklearn.metrics import confusion_matrix\n",
    "warnings.simplefilter(action='ignore', category=FutureWarning)\n",
    "%matplotlib inline\n",
    "from contextlib import redirect_stdout\n",
    "from zipfile import ZipFile\n",
    "import glob\n",
    "import re\n",
    "from tensorflow.keras.callbacks import ModelCheckpoint"
   ]
  },
  {
   "cell_type": "markdown",
   "metadata": {
    "id": "gHqgEBecGKL7"
   },
   "source": [
    "Unzip uploaded user input to 'data_template' directory"
   ]
  },
  {
   "cell_type": "code",
   "execution_count": 3,
   "metadata": {
    "id": "F742JdZXsegk"
   },
   "outputs": [],
   "source": [
    "data_fname = 'cars.zip'\n",
    "with ZipFile(data_fname,'r') as zip_file:\n",
    "            zip_file.extractall('data_template')"
   ]
  },
  {
   "cell_type": "markdown",
   "metadata": {
    "id": "6is2Y9BSGW1Z"
   },
   "source": [
    "Create a list of labels. "
   ]
  },
  {
   "cell_type": "code",
   "execution_count": 4,
   "metadata": {
    "colab": {
     "base_uri": "https://localhost:8080/"
    },
    "id": "qXUi1iJasjY_",
    "outputId": "602d619a-9d49-492f-b0bb-5fb798144f59"
   },
   "outputs": [
    {
     "name": "stdout",
     "output_type": "stream",
     "text": [
      "The labels are : ['acura', 'alfa_romeo', 'aston_martin']\n",
      "{'acura': 1174, 'alfa_romeo': 290, 'aston_martin': 574}\n"
     ]
    }
   ],
   "source": [
    "# First, let's store the number of classes of this particular dataset\n",
    "list_labels = [re.sub(\"data_template/*\",'',l) for l in glob.glob(\"data_template/*\")]\n",
    "\n",
    "for i in range(len(list_labels)):\n",
    "    list_labels[i] = re.sub(\"[^a-z_A-Z]\",\"\",list_labels[i])\n",
    "\n",
    "print (\"The labels are : \" + str(list_labels))\n",
    "\n",
    "# Check how many images per label (it will be useful later for class imbalance handling) and store that in a dictionary (also helpful for prepare train/valid/test)\n",
    "\n",
    "labels_summary = {}\n",
    "for lab in list_labels :\n",
    "    to_add = {lab: len(os.listdir(\"data_template/\"+lab+\"/\"))}\n",
    "    labels_summary.update(to_add)\n",
    "print(labels_summary)    \n",
    "\n",
    "# Create directories for training/validation/testing\n",
    "\n",
    "# We will have 3 new folders (training,validation,test) and each will contain subfolders one per label class"
   ]
  },
  {
   "cell_type": "markdown",
   "metadata": {
    "id": "JLxSdyNbHQjW"
   },
   "source": [
    "Create directories for training, validation, and testing populations"
   ]
  },
  {
   "cell_type": "code",
   "execution_count": 5,
   "metadata": {
    "id": "BL7AinLcsqgc"
   },
   "outputs": [],
   "source": [
    "for fold in [\"training\",\"validation\",\"testing\"]:\n",
    "    for lab in list_labels :\n",
    "        os.makedirs(fold+'/'+lab)\n",
    "\n",
    "# # We will use shutils.move to move the data selected randomly to the corresponding folder\n",
    "        \n",
    "# # Take 70 % of the data for training from each class        \n",
    "for lab in list_labels:\n",
    "    for i in random.sample(glob.glob('data_template/'+lab+'/*'), int(labels_summary[lab]*0.7)):\n",
    "        shutil.move(i, 'training/'+lab)  \n",
    "        \n",
    "# # Take 10 % of the data for validation from each class \n",
    "for lab in list_labels:\n",
    "    for i in random.sample(glob.glob('data_template/'+lab+'/*'), int(labels_summary[lab]*0.1)):\n",
    "        shutil.move(i, 'validation/'+lab)\n",
    "\n",
    "# # Take the remaining 20% for testing\n",
    "for lab in list_labels:\n",
    "    for i in glob.glob('data_template/'+lab+'/*'):\n",
    "        shutil.move(i, 'testing/'+lab)"
   ]
  },
  {
   "cell_type": "markdown",
   "metadata": {
    "id": "4h_52zp_HfX1"
   },
   "source": [
    "Set initial values for max val_accuracy, epoch of max val_acc, and model type of max val_acc"
   ]
  },
  {
   "cell_type": "code",
   "execution_count": 6,
   "metadata": {
    "id": "P482SaN106CS"
   },
   "outputs": [],
   "source": [
    "#max val acccuracy, epoch at max val_acc, model type of max val_acc\n",
    "mx = 0\n",
    "epochAtMx = 0\n",
    "modelType = \"\""
   ]
  },
  {
   "cell_type": "markdown",
   "metadata": {
    "id": "WUm0cU31HqzS"
   },
   "source": [
    "Set initial hyperparameters for training runs"
   ]
  },
  {
   "cell_type": "code",
   "execution_count": 7,
   "metadata": {
    "id": "DBhcBSjvs_LD"
   },
   "outputs": [],
   "source": [
    "batch_size=16\n",
    "n_epochs=5\n",
    "lr = 0.001\n",
    "models = ['vgg16','mobilenet','inception','inception_resnet','xception']\n"
   ]
  },
  {
   "cell_type": "markdown",
   "metadata": {
    "id": "8zt2B7XEH2B6"
   },
   "source": [
    "create directory for saved model files with highest val_accuracy"
   ]
  },
  {
   "cell_type": "code",
   "execution_count": 8,
   "metadata": {
    "id": "NNGYx-EgeiIz"
   },
   "outputs": [],
   "source": [
    "#create directory for saved model files with highest val_accuracy\n",
    "save_dir = os.path.join(os.getcwd(), 'saved_models')\n",
    "if not os.path.isdir(save_dir):\n",
    "  os.makedirs(save_dir)"
   ]
  },
  {
   "cell_type": "markdown",
   "metadata": {
    "id": "ZxFNobUMH5AF"
   },
   "source": [
    "Variables to be set for each model type and training run"
   ]
  },
  {
   "cell_type": "code",
   "execution_count": 9,
   "metadata": {
    "id": "p9SB-Q-Fhvp4"
   },
   "outputs": [],
   "source": [
    "#model params to set for each iteration\n",
    "preprocessingFunc = None\n",
    "model = None\n",
    "removeLayer = 0\n",
    "freezeLayers = 0\n",
    "#batches to set for each iteration\n",
    "train_batches = None\n",
    "valid_batches = None\n",
    "test_batches = None"
   ]
  },
  {
   "cell_type": "markdown",
   "metadata": {
    "id": "FyCNXEtRIWzI"
   },
   "source": [
    "Perform training for each model type, saving the best models and validation accuracies. <br>Record best overall val_accuracy,epoch,model"
   ]
  },
  {
   "cell_type": "code",
   "execution_count": 10,
   "metadata": {
    "colab": {
     "base_uri": "https://localhost:8080/"
    },
    "id": "qhrIkDESztOa",
    "outputId": "17692546-e2f7-4d42-a6bb-dcbe0123612a"
   },
   "outputs": [
    {
     "name": "stdout",
     "output_type": "stream",
     "text": [
      "Downloading data from https://storage.googleapis.com/tensorflow/keras-applications/vgg16/vgg16_weights_tf_dim_ordering_tf_kernels.h5\n",
      "553467904/553467096 [==============================] - 4s 0us/step\n",
      "Found 1425 images belonging to 3 classes.\n",
      "Found 203 images belonging to 3 classes.\n",
      "Found 410 images belonging to 3 classes.\n",
      "Epoch 1/5\n",
      "90/90 [==============================] - ETA: 0s - loss: 4.5917 - accuracy: 0.6421\n",
      "Epoch 00001: val_accuracy improved from -inf to 0.78818, saving model to /content/saved_models/vgg16_model.001.h5\n",
      "90/90 [==============================] - 16s 172ms/step - loss: 4.5917 - accuracy: 0.6421 - val_loss: 0.5871 - val_accuracy: 0.7882\n",
      "Epoch 2/5\n",
      "90/90 [==============================] - ETA: 0s - loss: 0.4471 - accuracy: 0.8926\n",
      "Epoch 00002: val_accuracy improved from 0.78818 to 0.85714, saving model to /content/saved_models/vgg16_model.002.h5\n",
      "90/90 [==============================] - 37s 414ms/step - loss: 0.4471 - accuracy: 0.8926 - val_loss: 0.9724 - val_accuracy: 0.8571\n",
      "Epoch 3/5\n",
      "90/90 [==============================] - ETA: 0s - loss: 0.2405 - accuracy: 0.9558\n",
      "Epoch 00003: val_accuracy did not improve from 0.85714\n",
      "90/90 [==============================] - 9s 95ms/step - loss: 0.2405 - accuracy: 0.9558 - val_loss: 1.1338 - val_accuracy: 0.8473\n",
      "Epoch 4/5\n",
      "90/90 [==============================] - ETA: 0s - loss: 0.5300 - accuracy: 0.9326\n",
      "Epoch 00004: val_accuracy did not improve from 0.85714\n",
      "90/90 [==============================] - 8s 92ms/step - loss: 0.5300 - accuracy: 0.9326 - val_loss: 1.4647 - val_accuracy: 0.8571\n",
      "Epoch 5/5\n",
      "90/90 [==============================] - ETA: 0s - loss: 0.1542 - accuracy: 0.9747\n",
      "Epoch 00005: val_accuracy did not improve from 0.85714\n",
      "90/90 [==============================] - 8s 93ms/step - loss: 0.1542 - accuracy: 0.9747 - val_loss: 2.6814 - val_accuracy: 0.8424\n",
      "max val acc: 0.8571428656578064\n",
      "at epoch: 2\n",
      "best model: vgg16\n",
      "Downloading data from https://storage.googleapis.com/tensorflow/keras-applications/mobilenet/mobilenet_1_0_224_tf.h5\n",
      "17227776/17225924 [==============================] - 0s 0us/step\n",
      "Found 1425 images belonging to 3 classes.\n",
      "Found 203 images belonging to 3 classes.\n",
      "Found 410 images belonging to 3 classes.\n",
      "Epoch 1/5\n",
      "90/90 [==============================] - ETA: 0s - loss: 0.7301 - accuracy: 0.7691\n",
      "Epoch 00001: val_accuracy improved from -inf to 0.73892, saving model to /content/saved_models/mobilenet_model.001.h5\n",
      "90/90 [==============================] - 6s 62ms/step - loss: 0.7301 - accuracy: 0.7691 - val_loss: 1.2495 - val_accuracy: 0.7389\n",
      "Epoch 2/5\n",
      "90/90 [==============================] - ETA: 0s - loss: 0.1339 - accuracy: 0.9523\n",
      "Epoch 00002: val_accuracy improved from 0.73892 to 0.88177, saving model to /content/saved_models/mobilenet_model.002.h5\n",
      "90/90 [==============================] - 4s 47ms/step - loss: 0.1339 - accuracy: 0.9523 - val_loss: 0.4199 - val_accuracy: 0.8818\n",
      "Epoch 3/5\n",
      "90/90 [==============================] - ETA: 0s - loss: 0.0494 - accuracy: 0.9846\n",
      "Epoch 00003: val_accuracy did not improve from 0.88177\n",
      "90/90 [==============================] - 4s 46ms/step - loss: 0.0494 - accuracy: 0.9846 - val_loss: 0.5422 - val_accuracy: 0.8473\n",
      "Epoch 4/5\n",
      "90/90 [==============================] - ETA: 0s - loss: 0.0323 - accuracy: 0.9930\n",
      "Epoch 00004: val_accuracy improved from 0.88177 to 0.89655, saving model to /content/saved_models/mobilenet_model.004.h5\n",
      "90/90 [==============================] - 4s 48ms/step - loss: 0.0323 - accuracy: 0.9930 - val_loss: 0.4814 - val_accuracy: 0.8966\n",
      "Epoch 5/5\n",
      "90/90 [==============================] - ETA: 0s - loss: 0.0436 - accuracy: 0.9881\n",
      "Epoch 00005: val_accuracy did not improve from 0.89655\n",
      "90/90 [==============================] - 4s 45ms/step - loss: 0.0436 - accuracy: 0.9881 - val_loss: 6.0069 - val_accuracy: 0.2020\n",
      "max val acc: 0.8965517282485962\n",
      "at epoch: 4\n",
      "best model: mobilenet\n",
      "Downloading data from https://storage.googleapis.com/tensorflow/keras-applications/inception_v3/inception_v3_weights_tf_dim_ordering_tf_kernels.h5\n",
      "96116736/96112376 [==============================] - 1s 0us/step\n",
      "Found 1425 images belonging to 3 classes.\n",
      "Found 203 images belonging to 3 classes.\n",
      "Found 410 images belonging to 3 classes.\n",
      "Epoch 1/5\n",
      "90/90 [==============================] - ETA: 0s - loss: 1.0423 - accuracy: 0.5726\n",
      "Epoch 00001: val_accuracy improved from -inf to 0.57635, saving model to /content/saved_models/inception_model.001.h5\n",
      "90/90 [==============================] - 7s 78ms/step - loss: 1.0423 - accuracy: 0.5726 - val_loss: 1.0094 - val_accuracy: 0.5764\n",
      "Epoch 2/5\n",
      "90/90 [==============================] - ETA: 0s - loss: 0.9660 - accuracy: 0.6814\n",
      "Epoch 00002: val_accuracy improved from 0.57635 to 0.71921, saving model to /content/saved_models/inception_model.002.h5\n",
      "90/90 [==============================] - 5s 60ms/step - loss: 0.9660 - accuracy: 0.6814 - val_loss: 0.9355 - val_accuracy: 0.7192\n",
      "Epoch 3/5\n",
      "90/90 [==============================] - ETA: 0s - loss: 0.8952 - accuracy: 0.7361\n",
      "Epoch 00003: val_accuracy did not improve from 0.71921\n",
      "90/90 [==============================] - 5s 53ms/step - loss: 0.8952 - accuracy: 0.7361 - val_loss: 0.8763 - val_accuracy: 0.7143\n",
      "Epoch 4/5\n",
      "90/90 [==============================] - ETA: 0s - loss: 0.8337 - accuracy: 0.7656\n",
      "Epoch 00004: val_accuracy improved from 0.71921 to 0.72906, saving model to /content/saved_models/inception_model.004.h5\n",
      "90/90 [==============================] - 5s 60ms/step - loss: 0.8337 - accuracy: 0.7656 - val_loss: 0.8342 - val_accuracy: 0.7291\n",
      "Epoch 5/5\n",
      "89/90 [============================>.] - ETA: 0s - loss: 0.7863 - accuracy: 0.7722\n",
      "Epoch 00005: val_accuracy improved from 0.72906 to 0.73892, saving model to /content/saved_models/inception_model.005.h5\n",
      "90/90 [==============================] - 5s 60ms/step - loss: 0.7852 - accuracy: 0.7733 - val_loss: 0.7837 - val_accuracy: 0.7389\n",
      "max val acc: 0.8965517282485962\n",
      "at epoch: 4\n",
      "best model: mobilenet\n",
      "Downloading data from https://storage.googleapis.com/tensorflow/keras-applications/inception_resnet_v2/inception_resnet_v2_weights_tf_dim_ordering_tf_kernels.h5\n",
      "225214464/225209952 [==============================] - 1s 0us/step\n",
      "Found 1425 images belonging to 3 classes.\n",
      "Found 203 images belonging to 3 classes.\n",
      "Found 410 images belonging to 3 classes.\n",
      "Epoch 1/5\n",
      "90/90 [==============================] - ETA: 0s - loss: 1.0367 - accuracy: 0.5782\n",
      "Epoch 00001: val_accuracy improved from -inf to 0.57635, saving model to /content/saved_models/inception_resnet_model.001.h5\n",
      "90/90 [==============================] - 15s 163ms/step - loss: 1.0367 - accuracy: 0.5782 - val_loss: 0.9937 - val_accuracy: 0.5764\n",
      "Epoch 2/5\n",
      "90/90 [==============================] - ETA: 0s - loss: 0.9615 - accuracy: 0.6316\n",
      "Epoch 00002: val_accuracy improved from 0.57635 to 0.66502, saving model to /content/saved_models/inception_resnet_model.002.h5\n",
      "90/90 [==============================] - 12s 132ms/step - loss: 0.9615 - accuracy: 0.6316 - val_loss: 0.9375 - val_accuracy: 0.6650\n",
      "Epoch 3/5\n",
      "90/90 [==============================] - ETA: 0s - loss: 0.9099 - accuracy: 0.6737\n",
      "Epoch 00003: val_accuracy improved from 0.66502 to 0.67980, saving model to /content/saved_models/inception_resnet_model.003.h5\n",
      "90/90 [==============================] - 12s 132ms/step - loss: 0.9099 - accuracy: 0.6737 - val_loss: 0.9087 - val_accuracy: 0.6798\n",
      "Epoch 4/5\n",
      "90/90 [==============================] - ETA: 0s - loss: 0.8681 - accuracy: 0.6919\n",
      "Epoch 00004: val_accuracy did not improve from 0.67980\n",
      "90/90 [==============================] - 10s 115ms/step - loss: 0.8681 - accuracy: 0.6919 - val_loss: 0.8749 - val_accuracy: 0.6650\n",
      "Epoch 5/5\n",
      "90/90 [==============================] - ETA: 0s - loss: 0.8378 - accuracy: 0.6982\n",
      "Epoch 00005: val_accuracy improved from 0.67980 to 0.70936, saving model to /content/saved_models/inception_resnet_model.005.h5\n",
      "90/90 [==============================] - 12s 131ms/step - loss: 0.8378 - accuracy: 0.6982 - val_loss: 0.8166 - val_accuracy: 0.7094\n",
      "max val acc: 0.8965517282485962\n",
      "at epoch: 4\n",
      "best model: mobilenet\n",
      "Downloading data from https://storage.googleapis.com/tensorflow/keras-applications/xception/xception_weights_tf_dim_ordering_tf_kernels.h5\n",
      "91889664/91884032 [==============================] - 0s 0us/step\n",
      "Found 1425 images belonging to 3 classes.\n",
      "Found 203 images belonging to 3 classes.\n",
      "Found 410 images belonging to 3 classes.\n",
      "Epoch 1/5\n",
      "90/90 [==============================] - ETA: 0s - loss: 1.0355 - accuracy: 0.5740\n",
      "Epoch 00001: val_accuracy improved from -inf to 0.66502, saving model to /content/saved_models/xception_model.001.h5\n",
      "90/90 [==============================] - 9s 99ms/step - loss: 1.0355 - accuracy: 0.5740 - val_loss: 0.9870 - val_accuracy: 0.6650\n",
      "Epoch 2/5\n",
      "90/90 [==============================] - ETA: 0s - loss: 0.9339 - accuracy: 0.6912\n",
      "Epoch 00002: val_accuracy improved from 0.66502 to 0.67980, saving model to /content/saved_models/xception_model.002.h5\n",
      "90/90 [==============================] - 8s 86ms/step - loss: 0.9339 - accuracy: 0.6912 - val_loss: 0.9039 - val_accuracy: 0.6798\n",
      "Epoch 3/5\n",
      "90/90 [==============================] - ETA: 0s - loss: 0.8517 - accuracy: 0.7179\n",
      "Epoch 00003: val_accuracy improved from 0.67980 to 0.69458, saving model to /content/saved_models/xception_model.003.h5\n",
      "90/90 [==============================] - 8s 88ms/step - loss: 0.8517 - accuracy: 0.7179 - val_loss: 0.8358 - val_accuracy: 0.6946\n",
      "Epoch 4/5\n",
      "90/90 [==============================] - ETA: 0s - loss: 0.7782 - accuracy: 0.7382\n",
      "Epoch 00004: val_accuracy improved from 0.69458 to 0.70936, saving model to /content/saved_models/xception_model.004.h5\n",
      "90/90 [==============================] - 8s 90ms/step - loss: 0.7782 - accuracy: 0.7382 - val_loss: 0.7770 - val_accuracy: 0.7094\n",
      "Epoch 5/5\n",
      "90/90 [==============================] - ETA: 0s - loss: 0.7057 - accuracy: 0.7705\n",
      "Epoch 00005: val_accuracy improved from 0.70936 to 0.73892, saving model to /content/saved_models/xception_model.005.h5\n",
      "90/90 [==============================] - 8s 89ms/step - loss: 0.7057 - accuracy: 0.7705 - val_loss: 0.7187 - val_accuracy: 0.7389\n",
      "max val acc: 0.8965517282485962\n",
      "at epoch: 4\n",
      "best model: mobilenet\n"
     ]
    }
   ],
   "source": [
    "for i in range(len(models)):\n",
    "  model_name = models[i]\n",
    "  #callback for saving checkpoint at best validation accuracy\n",
    "  model_filename = '%s_model.{epoch:03d}.h5' % model_name\n",
    "  filepath = os.path.join(save_dir, model_filename)\n",
    "  # prepare callback for model saving\n",
    "  checkpoint = ModelCheckpoint(filepath=filepath,\n",
    "                             monitor='val_accuracy',\n",
    "                             verbose=1,\n",
    "                             save_best_only=True)\n",
    "\n",
    "  if model_name == 'vgg16':\n",
    "    preprocessingFunc = tf.keras.applications.vgg16.preprocess_input\n",
    "    model = tf.keras.applications.vgg16.VGG16()\n",
    "    removeLay = -2\n",
    "    freezeLay = -3\n",
    "  elif model_name == 'mobilenet':\n",
    "    preprocessingFunc = tf.keras.applications.mobilenet.preprocess_input\n",
    "    model = tf.keras.applications.mobilenet.MobileNet()\n",
    "    removeLay = -6\n",
    "    freezeLay = -5\n",
    "  elif model_name == 'inception':\n",
    "    preprocessingFunc = tf.keras.applications.inception_v3.preprocess_input\n",
    "    model = tf.keras.applications.inception_v3.InceptionV3()\n",
    "    removeLay = -1\n",
    "    freezeLay = -5\n",
    "  elif model_name == 'inception_resnet':\n",
    "    preprocessingFunc = tf.keras.applications.inception_resnet_v2.preprocess_input\n",
    "    model = tf.keras.applications.inception_resnet_v2.InceptionResNetV2()\n",
    "    removeLay = -1\n",
    "    freezeLay = -5\n",
    "  elif model_name == 'xception':\n",
    "    preprocessingFunc = tf.keras.applications.xception.preprocess_input\n",
    "    model = tf.keras.applications.xception.Xception()\n",
    "    removeLay = -1\n",
    "    freezeLay = -5\n",
    "  \n",
    "  train_batches = ImageDataGenerator(preprocessing_function=preprocessingFunc) .flow_from_directory(directory=\"training/\", target_size=(224,224), classes=list_labels, batch_size=batch_size)\n",
    "  valid_batches = ImageDataGenerator(preprocessing_function=preprocessingFunc) .flow_from_directory(directory=\"validation/\", target_size=(224,224), classes=list_labels, batch_size=batch_size)\n",
    "  test_batches = ImageDataGenerator(preprocessing_function=preprocessingFunc) .flow_from_directory(directory=\"testing\", target_size=(224,224), classes=list_labels, batch_size=batch_size, shuffle=False)\n",
    "  \n",
    "  x = model.layers[removeLay].output  # we remove the output. layer that we  replace with the following line\n",
    "  output = Dense(units=len(list_labels), activation='softmax')(x)\n",
    "  model_new = Model(inputs=model.input, outputs=output)\n",
    "  for layer in model_new.layers[:freezeLay]:  # retrain fc1 , fc2 and prediction layer\n",
    "    layer.trainable = False\n",
    "  model_new.compile(optimizer='adam', loss='categorical_crossentropy', metrics=['accuracy'])\n",
    "  #model_new.summary()\n",
    "  history_model = model_new.fit(x=train_batches,\n",
    "              validation_data=valid_batches,\n",
    "              validation_steps=len(valid_batches),\n",
    "              epochs=n_epochs,\n",
    "              verbose=1,callbacks=[checkpoint]\n",
    "  )\n",
    "  #print the max validation accuracy and the epoch at which it occured\n",
    "  for k in range(len(history_model.history['val_accuracy'])):\n",
    "    if history_model.history['val_accuracy'][k] > mx:\n",
    "      mx = history_model.history['val_accuracy'][k]\n",
    "      epochAtMx = k + 1\n",
    "      modelType = model_name\n",
    "  print('max val acc: {}'.format(mx))\n",
    "  print('at epoch: {}'.format(epochAtMx))\n",
    "  print('best model: {}'.format(modelType))\n"
   ]
  },
  {
   "cell_type": "markdown",
   "metadata": {
    "id": "kDWOaww0IiHT"
   },
   "source": [
    "Select and load the model with highest recorded val_accuracy"
   ]
  },
  {
   "cell_type": "code",
   "execution_count": 11,
   "metadata": {
    "colab": {
     "base_uri": "https://localhost:8080/"
    },
    "id": "scnPyX5qcXdK",
    "outputId": "bd4743dd-80f7-48cd-e99f-f860d489222b"
   },
   "outputs": [
    {
     "name": "stdout",
     "output_type": "stream",
     "text": [
      "best model file: mobilenet_model.004.h5\n"
     ]
    }
   ],
   "source": [
    "bestModelFile = modelType + ('_model.%03d.h5' % epochAtMx)\n",
    "bestModel = keras.models.load_model('saved_models/'+bestModelFile)\n",
    "print('best model file: {}'.format(bestModelFile))"
   ]
  },
  {
   "cell_type": "markdown",
   "metadata": {
    "id": "moOnn09ZJVJ_"
   },
   "source": [
    "Set model attributes according to best model type"
   ]
  },
  {
   "cell_type": "code",
   "execution_count": 12,
   "metadata": {
    "id": "e9SuzsbAhZ-U"
   },
   "outputs": [],
   "source": [
    "\n",
    "if modelType == 'vgg16':\n",
    "  preprocessingFunc = tf.keras.applications.vgg16.preprocess_input\n",
    "  removeLay = -2\n",
    "  freezeLay = -3\n",
    "elif modelType == 'mobilenet':\n",
    "  preprocessingFunc = tf.keras.applications.mobilenet.preprocess_input\n",
    "  removeLay = -6\n",
    "  freezeLay = -5\n",
    "elif modelType == 'inception':\n",
    "  preprocessingFunc = tf.keras.applications.inception_v3.preprocess_input\n",
    "  removeLay = -1\n",
    "  freezeLay = -5\n",
    "elif modelType == 'inception_resnet':\n",
    "  preprocessingFunc = tf.keras.applications.inception_resnet_v2.preprocess_input\n",
    "  removeLay = -1\n",
    "  freezeLay = -5\n",
    "elif modelType == 'xception':\n",
    "  preprocessingFunc = tf.keras.applications.xception.preprocess_input\n",
    "  removeLay = -1\n",
    "  freezeLay = -5\n"
   ]
  },
  {
   "cell_type": "markdown",
   "metadata": {
    "id": "f0PzvyjHJflr"
   },
   "source": [
    "Initialize new callback for best model"
   ]
  },
  {
   "cell_type": "code",
   "execution_count": 14,
   "metadata": {
    "id": "uztuxY5Pm3lQ"
   },
   "outputs": [],
   "source": [
    "#callback for saving checkpoint at best validation accuracy\n",
    "model_name = 'bestModel'\n",
    "model_filename = '%s_model.{epoch:03d}.h5' % model_name\n",
    "filepath = os.path.join(save_dir, model_filename)\n",
    "# prepare callback for model saving\n",
    "checkpoint = ModelCheckpoint(filepath=filepath,\n",
    "                          monitor='val_accuracy',\n",
    "                          verbose=1,\n",
    "                          save_best_only=True)"
   ]
  },
  {
   "cell_type": "markdown",
   "metadata": {
    "id": "eXbDwEAnJl0n"
   },
   "source": [
    "Update hyperparameters for tuning the best model. <br>\n",
    "Create new batches for best model.<br>\n",
    "Then start training."
   ]
  },
  {
   "cell_type": "code",
   "execution_count": 15,
   "metadata": {
    "colab": {
     "base_uri": "https://localhost:8080/"
    },
    "id": "6fK24BVonazy",
    "outputId": "9e5325df-74fd-48f8-c720-c7649f6c85db"
   },
   "outputs": [
    {
     "name": "stdout",
     "output_type": "stream",
     "text": [
      "Found 1425 images belonging to 3 classes.\n",
      "Found 203 images belonging to 3 classes.\n",
      "Found 410 images belonging to 3 classes.\n",
      "Epoch 1/15\n",
      "45/45 [==============================] - ETA: 0s - loss: 0.0286 - accuracy: 0.9930\n",
      "Epoch 00001: val_accuracy improved from -inf to 0.89163, saving model to /content/saved_models/bestModel_model.001.h5\n",
      "45/45 [==============================] - 19s 428ms/step - loss: 0.0286 - accuracy: 0.9930 - val_loss: 0.3921 - val_accuracy: 0.8916\n",
      "Epoch 2/15\n",
      "45/45 [==============================] - ETA: 0s - loss: 0.0317 - accuracy: 0.9923\n",
      "Epoch 00002: val_accuracy improved from 0.89163 to 0.90640, saving model to /content/saved_models/bestModel_model.002.h5\n",
      "45/45 [==============================] - 19s 413ms/step - loss: 0.0317 - accuracy: 0.9923 - val_loss: 0.2986 - val_accuracy: 0.9064\n",
      "Epoch 3/15\n",
      "45/45 [==============================] - ETA: 0s - loss: 0.0205 - accuracy: 0.9972\n",
      "Epoch 00003: val_accuracy improved from 0.90640 to 0.92611, saving model to /content/saved_models/bestModel_model.003.h5\n",
      "45/45 [==============================] - 19s 411ms/step - loss: 0.0205 - accuracy: 0.9972 - val_loss: 0.2686 - val_accuracy: 0.9261\n",
      "Epoch 4/15\n",
      "45/45 [==============================] - ETA: 0s - loss: 0.0214 - accuracy: 0.9958\n",
      "Epoch 00004: val_accuracy did not improve from 0.92611\n",
      "45/45 [==============================] - 19s 412ms/step - loss: 0.0214 - accuracy: 0.9958 - val_loss: 0.2659 - val_accuracy: 0.9163\n",
      "Epoch 5/15\n",
      "45/45 [==============================] - ETA: 0s - loss: 0.0176 - accuracy: 0.9986\n",
      "Epoch 00005: val_accuracy did not improve from 0.92611\n",
      "45/45 [==============================] - 18s 410ms/step - loss: 0.0176 - accuracy: 0.9986 - val_loss: 0.2946 - val_accuracy: 0.9212\n",
      "Epoch 6/15\n",
      "45/45 [==============================] - ETA: 0s - loss: 0.0183 - accuracy: 0.9965\n",
      "Epoch 00006: val_accuracy did not improve from 0.92611\n",
      "45/45 [==============================] - 18s 410ms/step - loss: 0.0183 - accuracy: 0.9965 - val_loss: 0.2810 - val_accuracy: 0.9261\n",
      "Epoch 7/15\n",
      "45/45 [==============================] - ETA: 0s - loss: 0.0185 - accuracy: 0.9979\n",
      "Epoch 00007: val_accuracy did not improve from 0.92611\n",
      "45/45 [==============================] - 18s 410ms/step - loss: 0.0185 - accuracy: 0.9979 - val_loss: 0.2643 - val_accuracy: 0.9212\n",
      "Epoch 8/15\n",
      "45/45 [==============================] - ETA: 0s - loss: 0.0168 - accuracy: 0.9986\n",
      "Epoch 00008: val_accuracy did not improve from 0.92611\n",
      "45/45 [==============================] - 19s 413ms/step - loss: 0.0168 - accuracy: 0.9986 - val_loss: 0.2865 - val_accuracy: 0.9163\n",
      "Epoch 9/15\n",
      "45/45 [==============================] - ETA: 0s - loss: 0.0132 - accuracy: 0.9986\n",
      "Epoch 00009: val_accuracy did not improve from 0.92611\n",
      "45/45 [==============================] - 19s 412ms/step - loss: 0.0132 - accuracy: 0.9986 - val_loss: 0.2989 - val_accuracy: 0.8966\n",
      "Epoch 10/15\n",
      "45/45 [==============================] - ETA: 0s - loss: 0.0168 - accuracy: 0.9965\n",
      "Epoch 00010: val_accuracy did not improve from 0.92611\n",
      "45/45 [==============================] - 19s 412ms/step - loss: 0.0168 - accuracy: 0.9965 - val_loss: 0.2810 - val_accuracy: 0.9163\n",
      "Epoch 11/15\n",
      "45/45 [==============================] - ETA: 0s - loss: 0.0162 - accuracy: 0.9993\n",
      "Epoch 00011: val_accuracy did not improve from 0.92611\n",
      "45/45 [==============================] - 19s 412ms/step - loss: 0.0162 - accuracy: 0.9993 - val_loss: 0.2890 - val_accuracy: 0.9163\n",
      "Epoch 12/15\n",
      "45/45 [==============================] - ETA: 0s - loss: 0.0208 - accuracy: 0.9958\n",
      "Epoch 00012: val_accuracy did not improve from 0.92611\n",
      "45/45 [==============================] - 19s 412ms/step - loss: 0.0208 - accuracy: 0.9958 - val_loss: 0.3015 - val_accuracy: 0.9163\n",
      "Epoch 13/15\n",
      "45/45 [==============================] - ETA: 0s - loss: 0.0139 - accuracy: 0.9986\n",
      "Epoch 00013: val_accuracy did not improve from 0.92611\n",
      "45/45 [==============================] - 19s 413ms/step - loss: 0.0139 - accuracy: 0.9986 - val_loss: 0.3005 - val_accuracy: 0.9064\n",
      "Epoch 14/15\n",
      "45/45 [==============================] - ETA: 0s - loss: 0.0156 - accuracy: 0.9958\n",
      "Epoch 00014: val_accuracy did not improve from 0.92611\n",
      "45/45 [==============================] - 18s 408ms/step - loss: 0.0156 - accuracy: 0.9958 - val_loss: 0.2955 - val_accuracy: 0.9212\n",
      "Epoch 15/15\n",
      "45/45 [==============================] - ETA: 0s - loss: 0.0112 - accuracy: 1.0000\n",
      "Epoch 00015: val_accuracy did not improve from 0.92611\n",
      "45/45 [==============================] - 19s 412ms/step - loss: 0.0112 - accuracy: 1.0000 - val_loss: 0.3002 - val_accuracy: 0.9064\n"
     ]
    }
   ],
   "source": [
    "#set new number of epochs , batch size, lern rate for best model tuning\n",
    "n_epochs=15\n",
    "batch_size = 32\n",
    "lr = 0.00001\n",
    "#create batches for new training round with updated batch size\n",
    "train_batches = ImageDataGenerator(rotation_range=5,horizontal_flip=True,preprocessing_function=preprocessingFunc) .flow_from_directory(directory=\"training/\", target_size=(224,224), classes=list_labels, batch_size=batch_size)\n",
    "valid_batches = ImageDataGenerator(rotation_range=5,horizontal_flip=True,preprocessing_function=preprocessingFunc) .flow_from_directory(directory=\"validation/\", target_size=(224,224), classes=list_labels, batch_size=batch_size)\n",
    "test_batches = ImageDataGenerator(preprocessing_function=preprocessingFunc) .flow_from_directory(directory=\"testing\", target_size=(224,224), classes=list_labels, batch_size=batch_size, shuffle=False)\n",
    "\n",
    "opt = keras.optimizers.Adam(learning_rate=lr)\n",
    "bestModel.compile(optimizer=opt, loss='categorical_crossentropy', metrics=['accuracy'])\n",
    "history_bestModel = bestModel.fit(x=train_batches,\n",
    "            steps_per_epoch=len(train_batches),\n",
    "            validation_data=valid_batches,\n",
    "            validation_steps=len(valid_batches),\n",
    "            epochs=n_epochs,\n",
    "            verbose=1,callbacks=[checkpoint]\n",
    ")"
   ]
  },
  {
   "cell_type": "markdown",
   "metadata": {
    "id": "ZAYum0raKdYy"
   },
   "source": [
    "Record best model's top validation accuracy and epoch.<br>\n",
    "Model h5 file saved by checkpoint callback."
   ]
  },
  {
   "cell_type": "code",
   "execution_count": 19,
   "metadata": {
    "colab": {
     "base_uri": "https://localhost:8080/"
    },
    "id": "_ZoaDDQa8_nU",
    "outputId": "85734da7-da8f-40d2-f790-aacc021216ac"
   },
   "outputs": [
    {
     "name": "stdout",
     "output_type": "stream",
     "text": [
      "max val acc: 0.9261083602905273\n",
      "at epoch: 3\n",
      "best model: bestModel\n"
     ]
    }
   ],
   "source": [
    "#print the max validation accuracy and the epoch at which it occured\n",
    "for k in range(len(history_bestModel.history['val_accuracy'])):\n",
    "  if history_bestModel.history['val_accuracy'][k] > mx:\n",
    "    mx = history_bestModel.history['val_accuracy'][k]\n",
    "    epochAtMx = k + 1\n",
    "    modelType = model_name\n",
    "print('max val acc: {}'.format(mx))\n",
    "print('at epoch: {}'.format(epochAtMx))\n",
    "print('best model: {}'.format(modelType))"
   ]
  },
  {
   "cell_type": "markdown",
   "metadata": {
    "id": "axRN3bB2K4A7"
   },
   "source": [
    "Functions for displaying confusion matrix and training history."
   ]
  },
  {
   "cell_type": "code",
   "execution_count": 16,
   "metadata": {
    "id": "xm3BuylksPsk"
   },
   "outputs": [],
   "source": [
    "def plot_confusion_matrix(cm, classes,name,\n",
    "                          cmap=plt.cm.Blues,save=True):\n",
    "    \"\"\"\n",
    "    This function prints and plots the confusion matrix.\n",
    "    Normalization can be applied by setting `normalize=True`.\n",
    "    \"\"\"\n",
    "    plt.imshow(cm, interpolation='nearest', cmap=cmap)\n",
    "    plt.title(\"Confusion matrix\")\n",
    "    plt.colorbar()\n",
    "    tick_marks = np.arange(len(classes))\n",
    "    plt.xticks(tick_marks, classes, rotation=45)\n",
    "    plt.yticks(tick_marks, classes)\n",
    "\n",
    "\n",
    "\n",
    "    thresh = cm.max() / 2.\n",
    "    for i, j in itertools.product(range(cm.shape[0]), range(cm.shape[1])):\n",
    "        plt.text(j, i, cm[i, j],\n",
    "            horizontalalignment=\"center\",\n",
    "            color=\"white\" if cm[i, j] > thresh else \"black\")\n",
    "\n",
    "    plt.tight_layout()\n",
    "    plt.ylabel('True label')\n",
    "    plt.xlabel('Predicted label')\n",
    "    if save :\n",
    "        plt.savefig(\"./\"+name)"
   ]
  },
  {
   "cell_type": "code",
   "execution_count": 17,
   "metadata": {
    "id": "rBPAlhTesQ1U"
   },
   "outputs": [],
   "source": [
    "def plot_history(history,name=\"\",save=True):\n",
    "    loss_list = [s for s in history.history.keys() if 'loss' in s and 'val' not in s]\n",
    "    val_loss_list = [s for s in history.history.keys() if 'loss' in s and 'val' in s]\n",
    "    acc_list = [s for s in history.history.keys() if 'acc' in s and 'val' not in s]\n",
    "    val_acc_list = [s for s in history.history.keys() if 'acc' in s and 'val' in s]\n",
    "    \n",
    "    if len(loss_list) == 0:\n",
    "        print('Loss is missing in history')\n",
    "        return \n",
    "    \n",
    "    ## As loss always exists\n",
    "    epochs = range(1,len(history.history[loss_list[0]]) + 1)\n",
    "    \n",
    "    ## Loss\n",
    "    plt.figure(1)\n",
    "    for l in loss_list:\n",
    "        plt.plot(epochs, history.history[l], 'b', label='Training loss (' + str(str(format(history.history[l][-1],'.5f'))+')'))\n",
    "    for l in val_loss_list:\n",
    "        plt.plot(epochs, history.history[l], 'g', label='Validation loss (' + str(str(format(history.history[l][-1],'.5f'))+')'))\n",
    "    \n",
    "    plt.title('Loss')\n",
    "    plt.xlabel('Epochs')\n",
    "    plt.ylabel('Loss')\n",
    "    if save:\n",
    "        plt.savefig(\"./\"+name+\"_loss.png\")\n",
    "    plt.legend()\n",
    "    \n",
    "    ## Accuracy\n",
    "    plt.figure(2)\n",
    "    for l in acc_list:\n",
    "        plt.plot(epochs, history.history[l], 'b', label='Training accuracy (' + str(format(history.history[l][-1],'.5f'))+')')\n",
    "    for l in val_acc_list:    \n",
    "        plt.plot(epochs, history.history[l], 'g', label='Validation accuracy (' + str(format(history.history[l][-1],'.5f'))+')')\n",
    "\n",
    "    plt.title('Accuracy')\n",
    "    plt.xlabel('Epochs')\n",
    "    plt.ylabel('Accuracy')\n",
    "    plt.legend()\n",
    "    if save :\n",
    "        plt.savefig(\"./\"+name+\"_accuracy.png\")"
   ]
  },
  {
   "cell_type": "markdown",
   "metadata": {
    "id": "7rPMSkHZLpl2"
   },
   "source": [
    "Show confusion matrix and training history of best model training run with tuned hyperparameters."
   ]
  },
  {
   "cell_type": "code",
   "execution_count": 18,
   "metadata": {
    "colab": {
     "base_uri": "https://localhost:8080/",
     "height": 867
    },
    "id": "w4mujN60sUxL",
    "outputId": "039005f8-9b36-452f-996e-25e11a99155e"
   },
   "outputs": [
    {
     "data": {
      "image/png": "[encoded data removed]",
      "text/plain": [
       "<Figure size 432x288 with 2 Axes>"
      ]
     },
     "metadata": {
      "needs_background": "light",
      "tags": []
     },
     "output_type": "display_data"
    },
    {
     "data": {
      "image/png": "[encoded data removed]",
      "text/plain": [
       "<Figure size 432x288 with 1 Axes>"
      ]
     },
     "metadata": {
      "needs_background": "light",
      "tags": []
     },
     "output_type": "display_data"
    },
    {
     "data": {
      "image/png": "[encoded data removed]",
      "text/plain": [
       "<Figure size 432x288 with 1 Axes>"
      ]
     },
     "metadata": {
      "needs_background": "light",
      "tags": []
     },
     "output_type": "display_data"
    }
   ],
   "source": [
    "predictions_bestModel = bestModel.predict(x=test_batches, steps=len(test_batches), verbose=0) \n",
    "cm = confusion_matrix(y_true=test_batches.classes, y_pred=predictions_bestModel.argmax(axis=1))\n",
    "\n",
    "\n",
    "plot_confusion_matrix(cm=cm, classes=list(test_batches.class_indices.keys()),name=\"confusion_matrix_bestModel.png\")\n",
    "plt.show()\n",
    "\n",
    "plot_history(history_bestModel,name=\"history_bestModel\")\n",
    "\n",
    "plt.show()"
   ]
  }
 ],
 "metadata": {
  "accelerator": "GPU",
  "colab": {
   "collapsed_sections": [],
   "name": "projectModel.ipynb",
   "provenance": []
  },
  "kernelspec": {
   "display_name": "Python 3",
   "language": "python",
   "name": "python3"
  },
  "language_info": {
   "codemirror_mode": {
    "name": "ipython",
    "version": 3
   },
   "file_extension": ".py",
   "mimetype": "text/x-python",
   "name": "python",
   "nbconvert_exporter": "python",
   "pygments_lexer": "ipython3",
   "version": "3.7.9"
  }
 },
 "nbformat": 4,
 "nbformat_minor": 4
}
